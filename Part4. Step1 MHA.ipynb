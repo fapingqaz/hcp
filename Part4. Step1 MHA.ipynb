{
 "cells": [
  {
   "cell_type": "markdown",
   "id": "e8b27860",
   "metadata": {},
   "source": [
    "# 拆分数据"
   ]
  },
  {
   "cell_type": "code",
   "execution_count": null,
   "id": "758959b2",
   "metadata": {},
   "outputs": [],
   "source": [
    "import pandas as pd\n",
    "from onekey_algo import get_param_in_cwd\n",
    "import numpy as np\n",
    "from onekey_algo.custom.components.comp1 import merge_results\n",
    "\n",
    "task = 'FULL'\n",
    "label_data = pd.read_csv(get_param_in_cwd('label_file'))\n",
    "label_data['group'] = label_data['group'].map(lambda x:x if x in ['train', 'val'] else 'test')\n",
    "if task == 'FULL':\n",
    "    clinic_features = pd.read_csv('data/clinic_sel.csv')\n",
    "    path_features = pd.read_csv('features/Path_after_lasso.csv')\n",
    "    rad_features = pd.read_csv('features/Habitat_after_lasso.csv')\n",
    "    features = merge_results(path_features[[c for c in path_features if c not in ['group', 'label', 'prob10']]], \n",
    "                             rad_features[[c for c in rad_features if c not in ['group', 'label']]], \n",
    "                             clinic_features[[c for c in clinic_features if c not in ['group', 'label']]], )\n",
    "    print(clinic_features.shape, path_features.shape, rad_features.shape)\n",
    "    features.to_csv(f'features/fusion_{task}_features.csv', index=False)\n",
    "    display(features)\n",
    "for ug in get_param_in_cwd('subsets'):\n",
    "    sug_group = label_data[label_data['group'] == ug]\n",
    "    sub_features = pd.merge(features, sug_group[['ID']], on='ID', how='inner')\n",
    "    print(ug, len(np.unique(sub_features['ID'])))\n",
    "    sub_features.to_csv(f'features/{ug}.csv', index=False)"
   ]
  },
  {
   "cell_type": "code",
   "execution_count": null,
   "id": "7050436a",
   "metadata": {},
   "outputs": [],
   "source": [
    "import os\n",
    "from onekey_algo.fusion.MultiTransformer.run_model import train_categorical_model as clf_main\n",
    "from collections import namedtuple\n",
    "from onekey_algo import get_param_in_cwd\n",
    "\n",
    "# 设置参数\n",
    "train = r'features/train.csv'\n",
    "val = r'features/val.csv'\n",
    "tests = [r'features/test.csv']\n",
    "target_file = get_param_in_cwd('label_file')\n",
    "input_dim = features.shape[1] - 1\n",
    "bags_size = 1\n",
    "normalize = True\n",
    "header = 0\n",
    "\n",
    "for i in range(100):\n",
    "    params = dict(train=train,\n",
    "                  val=val,\n",
    "                  tests=tests,\n",
    "                  target_file=target_file,\n",
    "                  j=0,\n",
    "                  input_dim=input_dim,\n",
    "                  bags_size=bags_size,\n",
    "                  normalize=normalize,\n",
    "                  header=header,\n",
    "                  gpus=[0],\n",
    "                  batch_size=16,\n",
    "                  model_name='Transformer',\n",
    "                  epochs=50,\n",
    "                  init_lr=0.1,\n",
    "                  optimizer='sgd',\n",
    "                  model_root=os.path.join(get_param_in_cwd('radio_dir'), '../models'),\n",
    "                  add_date=True,\n",
    "                  retrain='',\n",
    "                  iters_start=0,\n",
    "                  iters_verbose=1,\n",
    "                  save_per_epoch=False,\n",
    "                  pretrained=True)\n",
    "    # 训练模型\n",
    "    Args = namedtuple(\"Args\", params)\n",
    "    clf_main(Args(**params))"
   ]
  },
  {
   "cell_type": "code",
   "execution_count": null,
   "id": "5fba017c",
   "metadata": {},
   "outputs": [],
   "source": [
    "label_data[label_data['group'] == subset]"
   ]
  },
  {
   "cell_type": "code",
   "execution_count": null,
   "id": "8b693ace",
   "metadata": {
    "scrolled": false
   },
   "outputs": [],
   "source": [
    "import pandas as pd\n",
    "import os\n",
    "from onekey_algo.custom.components import metrics\n",
    "from onekey_algo.custom.components.comp1 import draw_roc\n",
    "from onekey_algo import get_param_in_cwd\n",
    "import numpy as np\n",
    "import matplotlib.pyplot as plt\n",
    "\n",
    "def get_log(epoch):\n",
    "    log_ = pd.concat([pd.read_csv(os.path.join(root, f'../train/Epoch-{epoch}_spec.csv')), \n",
    "                      pd.read_csv(os.path.join(root, f'../valid/Epoch-{epoch}_spec.csv'))], axis=0)\n",
    "    log_.columns = ['ID', 'label-0', 'label-1']\n",
    "    return log_\n",
    "\n",
    "model_root = os.path.join(get_param_in_cwd('radio_dir'), '../models')\n",
    "label_data = pd.read_csv(r'split_info/label-RND-7.csv')\n",
    "label_data['group'] = label_data['group'].map(lambda x:x if x in ['train', 'val'] else 'test')\n",
    "groups = []\n",
    "all_ids = set()\n",
    "for s in ['201748']:\n",
    "    root = os.path.join(model_root, s, 'Transformer', 'viz')\n",
    "    for epoch in range(42, 43):\n",
    "        metrics_df = []\n",
    "        all_gt = []\n",
    "        all_pred = []\n",
    "        for subset in get_param_in_cwd('subsets'):\n",
    "            sub_group = get_log(epoch)            \n",
    "            all_ids |= set(sub_group['ID'])\n",
    "            sub_group.columns = ['ID', 'label-0', 'label-1']\n",
    "            sub_group = pd.merge(sub_group, label_data[label_data['group'] == subset])\n",
    "#             display(sub_group)\n",
    "            acc, auc, ci, tpr, tnr, ppv, npv, _, _, _, thres = metrics.analysis_pred_binary(np.array(sub_group['label']), \n",
    "                                                                                            np.array(sub_group['label-1']))\n",
    "            sub_group['pred_label'] = (sub_group['label-1'].astype(float) > 0.02).astype(int)\n",
    "            sub_group['group'] = subset\n",
    "            groups.append(sub_group)\n",
    "            sub_group[['ID', 'label-0', 'label-1']].to_csv(f'results/Fusion_Transformer_{subset}.csv', index=False)\n",
    "            all_gt.append(np.array(sub_group['label']))\n",
    "            all_pred.append(np.array(sub_group['label-1']))\n",
    "            acc, auc, ci, tpr, tnr, ppv, npv, _, _, _, thres = metrics.analysis_pred_binary(np.array(sub_group['label']), \n",
    "                                                                                            np.array(sub_group['label-1']))\n",
    "            ci = f\"{ci[0]:.4f}-{ci[1]:.4f}\"\n",
    "            metrics_df.append([acc, auc, ci, tpr, tnr, ppv, npv, thres, subset])\n",
    "        draw_roc(all_gt, all_pred, labels=get_param_in_cwd('subsets'), title=f\"Model: Transformer\")\n",
    "        plt.savefig(f'img/Fusion_Transformer_roc.svg', bbox_inches='tight')\n",
    "        plt.show()\n",
    "        metrics_df = pd.DataFrame(metrics_df,\n",
    "                                  columns=['Acc', 'AUC', '95% CI', 'Sensitivity', 'Specificity', 'PPV', 'NPV', 'Youden', 'Cohort'])\n",
    "        if True or float(metrics_df[metrics_df['Cohort'] == 'val']['AUC']) > 0.75 and float(metrics_df[metrics_df['Cohort'] == 'test']['AUC']) > 0.75:\n",
    "            print(s, epoch)\n",
    "            display(metrics_df)"
   ]
  },
  {
   "cell_type": "code",
   "execution_count": null,
   "id": "e0751722",
   "metadata": {},
   "outputs": [],
   "source": [
    "group_info = pd.concat(groups, axis=0)\n",
    "group_info[['ID', 'label', 'group']].to_csv('joinit_group.csv', index=False)\n",
    "group_info"
   ]
  },
  {
   "cell_type": "code",
   "execution_count": null,
   "id": "518ed8a3",
   "metadata": {},
   "outputs": [],
   "source": [
    "label_data[~label_data['ID'].isin(all_ids - set(group_info['ID']))].to_csv('group.csv', index=False)"
   ]
  },
  {
   "cell_type": "code",
   "execution_count": null,
   "id": "a1fe1a21",
   "metadata": {},
   "outputs": [],
   "source": [
    "label_data[~label_data['ID'].isin(all_ids - set(group_info['ID']))]"
   ]
  },
  {
   "cell_type": "code",
   "execution_count": null,
   "id": "7f6ec023",
   "metadata": {},
   "outputs": [],
   "source": []
  }
 ],
 "metadata": {
  "kernelspec": {
   "display_name": "Python 3 (ipykernel)",
   "language": "python",
   "name": "python3"
  },
  "language_info": {
   "codemirror_mode": {
    "name": "ipython",
    "version": 3
   },
   "file_extension": ".py",
   "mimetype": "text/x-python",
   "name": "python",
   "nbconvert_exporter": "python",
   "pygments_lexer": "ipython3",
   "version": "3.7.12"
  }
 },
 "nbformat": 4,
 "nbformat_minor": 5
}
